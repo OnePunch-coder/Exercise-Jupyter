{
 "cells": [
  {
   "cell_type": "markdown",
   "id": "458e9537-1ea2-47c8-bcdd-909eba07106e",
   "metadata": {},
   "source": [
    "# Data Science Tools and Ecosystem"
   ]
  },
  {
   "cell_type": "markdown",
   "id": "5c64aa8c-925c-4f5c-8f33-59a4c5641c09",
   "metadata": {
    "tags": []
   },
   "source": [
    "In this notebook, Data Science Tools and Ecosystem are summarized."
   ]
  },
  {
   "cell_type": "markdown",
   "id": "e69aa70b-a4d2-4528-a674-c0e972137e88",
   "metadata": {},
   "source": [
    "Some of the popular languages that Data Scientists use are:\n"
   ]
  },
  {
   "cell_type": "markdown",
   "id": "123d7e45-cdeb-40f8-bc33-52b93ef798e8",
   "metadata": {},
   "source": [
    "1. R\n",
    "2. Python\n",
    "3. SQL\n"
   ]
  },
  {
   "cell_type": "markdown",
   "id": "3d465b34-65ce-4113-849e-d4602ce7e70d",
   "metadata": {
    "tags": []
   },
   "source": [
    "Some of the commonly used libraries by Data Scientists include:"
   ]
  },
  {
   "cell_type": "markdown",
   "id": "f71b2199-686d-407e-a471-e3208a4e53d4",
   "metadata": {},
   "source": [
    "1. Pandas\n",
    "2. NumPy\n",
    "3. Matplotlib"
   ]
  },
  {
   "cell_type": "markdown",
   "id": "53e65124-6821-4467-8a8d-8df725e2a97b",
   "metadata": {},
   "source": [
    "| Data Science Tools|\n",
    "|-------------------|\n",
    "| Jupyter Notebook|\n",
    "| Rstudio|\n",
    "| Apache Zeppelin|\n"
   ]
  },
  {
   "cell_type": "markdown",
   "id": "46751856-a7c3-4666-accf-57a63e9f01fc",
   "metadata": {},
   "source": [
    "### Below are a few examples of evaluating arithmetic expressions in Python.\n"
   ]
  },
  {
   "cell_type": "code",
   "execution_count": 8,
   "id": "25866c36-3e6b-4f37-b0ed-6f2a0969c12b",
   "metadata": {
    "tags": []
   },
   "outputs": [
    {
     "data": {
      "text/plain": [
       "17"
      ]
     },
     "execution_count": 8,
     "metadata": {},
     "output_type": "execute_result"
    }
   ],
   "source": [
    "#This a simple arithmetic expression to multiply then add integers.\n",
    "(3*4)+5\n"
   ]
  },
  {
   "cell_type": "code",
   "execution_count": 10,
   "id": "9afd2280-a66d-4bee-87ae-f32c2dea721f",
   "metadata": {
    "tags": []
   },
   "outputs": [
    {
     "data": {
      "text/plain": [
       "3.3333333333333335"
      ]
     },
     "execution_count": 10,
     "metadata": {},
     "output_type": "execute_result"
    }
   ],
   "source": [
    "#This will convert 200 minutes to hours by dividing by 60.\n",
    "200 / 60\n"
   ]
  },
  {
   "cell_type": "markdown",
   "id": "9b898979-bd05-4b58-90ba-143d3da0e7e0",
   "metadata": {},
   "source": [
    "**Objectives:**\n",
    "- List popular languages for Data Science.\n",
    "- Identify commonly used libraries.\n",
    "- Understand basic arithmetic operations in Python.\n",
    "- Familiarize with Data Science tools."
   ]
  },
  {
   "cell_type": "markdown",
   "id": "8d33309b-7997-4016-a859-075e36a5233b",
   "metadata": {
    "tags": []
   },
   "source": [
    "## Author\n",
    "Thien Xuan Nguyen"
   ]
  },
  {
   "cell_type": "code",
   "execution_count": null,
   "id": "c05f64bf-205f-4af8-a892-956970e25273",
   "metadata": {},
   "outputs": [],
   "source": []
  }
 ],
 "metadata": {
  "kernelspec": {
   "display_name": "Python",
   "language": "python",
   "name": "conda-env-python-py"
  },
  "language_info": {
   "codemirror_mode": {
    "name": "ipython",
    "version": 3
   },
   "file_extension": ".py",
   "mimetype": "text/x-python",
   "name": "python",
   "nbconvert_exporter": "python",
   "pygments_lexer": "ipython3",
   "version": "3.7.12"
  }
 },
 "nbformat": 4,
 "nbformat_minor": 5
}
